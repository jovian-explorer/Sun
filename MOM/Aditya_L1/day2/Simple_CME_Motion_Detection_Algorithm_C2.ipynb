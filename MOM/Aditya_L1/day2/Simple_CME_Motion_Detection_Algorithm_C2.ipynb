{
  "cells": [
    {
      "cell_type": "code",
      "execution_count": null,
      "metadata": {
        "id": "PaIO6SyOzr3s"
      },
      "outputs": [],
      "source": [
        "import cv2\n",
        "import numpy as np\n",
        "from numpy import log10, array, sqrt\n",
        "from IPython.display import clear_output\n",
        "from time import sleep\n",
        "from google.colab.patches import cv2_imshow"
      ]
    },
    {
      "cell_type": "code",
      "execution_count": null,
      "metadata": {
        "id": "bkKMxcEALT51"
      },
      "outputs": [],
      "source": [
        "import glob"
      ]
    },
    {
      "cell_type": "code",
      "execution_count": null,
      "metadata": {
        "id": "UchdJGSeZrWr"
      },
      "outputs": [],
      "source": [
        "import matplotlib.pyplot as plt\n",
        "import matplotlib.colors as colors\n",
        "import matplotlib.animation as animation"
      ]
    },
    {
      "cell_type": "code",
      "execution_count": null,
      "metadata": {
        "id": "5RuoLP2lv3GH"
      },
      "outputs": [],
      "source": [
        "from astropy.io import fits"
      ]
    },
    {
      "cell_type": "code",
      "execution_count": null,
      "metadata": {
        "id": "HhVW2OQKYgWL"
      },
      "outputs": [],
      "source": [
        "from astropy.utils.data import get_pkg_data_filename"
      ]
    },
    {
      "cell_type": "code",
      "execution_count": null,
      "metadata": {
        "id": "XL79R0eOYbjs"
      },
      "outputs": [],
      "source": [
        "from astropy.visualization import ImageNormalize, SqrtStretch"
      ]
    },
    {
      "cell_type": "code",
      "execution_count": null,
      "metadata": {
        "id": "9LVUO7HQmQEG"
      },
      "outputs": [],
      "source": [
        "from sunpy.io import read_file"
      ]
    },
    {
      "cell_type": "code",
      "execution_count": null,
      "metadata": {
        "id": "HhNNS1tBcWei"
      },
      "outputs": [],
      "source": [
        "import sunpy.map\n",
        "from sunpy.map import Map"
      ]
    },
    {
      "cell_type": "code",
      "execution_count": null,
      "metadata": {
        "id": "ZRxaFWyi5lwG"
      },
      "outputs": [],
      "source": [
        "import skimage.transform"
      ]
    },
    {
      "cell_type": "code",
      "execution_count": null,
      "metadata": {
        "id": "etfgvRZ-qOmH"
      },
      "outputs": [],
      "source": [
        "# load the image file\n",
        "image_file1 = get_pkg_data_filename('/home/dev/Sun/Aditya_L1/day2/VSO_Data/Fido_Sunpy/LASCO/22400113.fts')"
      ]
    },
    {
      "cell_type": "code",
      "execution_count": null,
      "metadata": {
        "id": "9i7TTmPeEY2P"
      },
      "outputs": [],
      "source": [
        "image_file = get_pkg_data_filename('/home/dev/Sun/Aditya_L1/day2/VSO_Data/Fido_Sunpy/LASCO/22400118.fts')"
      ]
    },
    {
      "cell_type": "code",
      "execution_count": null,
      "metadata": {
        "colab": {
          "base_uri": "https://localhost:8080/"
        },
        "id": "iuccpeFnfeNz",
        "outputId": "6de5690c-7798-4245-cd4b-4f4657a3cab1"
      },
      "outputs": [],
      "source": [
        "fits.info(image_file)"
      ]
    },
    {
      "cell_type": "code",
      "execution_count": null,
      "metadata": {
        "colab": {
          "base_uri": "https://localhost:8080/"
        },
        "id": "-qsOIzEgl3rk",
        "outputId": "0f2028bd-4dd3-4b9d-c66c-3d7ef305c4ac"
      },
      "outputs": [],
      "source": [
        "data, header = read_file(image_file)[0]\n",
        "angle = header['CROTA2']\n",
        "print(angle)  # -> -173.555"
      ]
    },
    {
      "cell_type": "code",
      "execution_count": null,
      "metadata": {
        "id": "BjRqMBxmh7--"
      },
      "outputs": [],
      "source": [
        "image_data = fits.getdata(image_file, ext=0)"
      ]
    },
    {
      "cell_type": "code",
      "execution_count": null,
      "metadata": {
        "id": "9YDonUgjqS1e"
      },
      "outputs": [],
      "source": [
        "image_data = (image_data)"
      ]
    },
    {
      "cell_type": "code",
      "execution_count": null,
      "metadata": {
        "colab": {
          "base_uri": "https://localhost:8080/"
        },
        "id": "cbC3sbUQilwX",
        "outputId": "bec3efe0-9a66-49f6-f558-5829e6ba2015"
      },
      "outputs": [],
      "source": [
        "print(image_data.shape)"
      ]
    },
    {
      "cell_type": "code",
      "execution_count": null,
      "metadata": {
        "id": "3gMNV9HO0rBM"
      },
      "outputs": [],
      "source": [
        "image_data1 = fits.getdata(image_file1, ext=0)"
      ]
    },
    {
      "cell_type": "code",
      "execution_count": null,
      "metadata": {
        "colab": {
          "base_uri": "https://localhost:8080/",
          "height": 282
        },
        "id": "2QKJq8JcZNAC",
        "outputId": "9b7eb58a-936a-482c-85d7-7c88a2f7ec94"
      },
      "outputs": [],
      "source": [
        "plt.imshow(image_data, origin='lower')"
      ]
    },
    {
      "cell_type": "code",
      "execution_count": null,
      "metadata": {
        "id": "lq4yMx4S0041"
      },
      "outputs": [],
      "source": [
        "diff_image=image_data1-image_data"
      ]
    },
    {
      "cell_type": "code",
      "execution_count": null,
      "metadata": {
        "colab": {
          "base_uri": "https://localhost:8080/",
          "height": 265
        },
        "id": "wFmO4T8M1AXk",
        "outputId": "17dfcf48-6799-4c20-be4a-7ed5102f18ee"
      },
      "outputs": [],
      "source": [
        "plt.imshow(diff_image, vmin=-50, vmax=50,  origin='lower')\n",
        "plt.axis('off')"
      ]
    },
    {
      "cell_type": "code",
      "execution_count": null,
      "metadata": {
        "colab": {
          "base_uri": "https://localhost:8080/",
          "height": 282
        },
        "id": "LN_4RmeqFQ6J",
        "outputId": "e570c9ed-b5c6-451a-f68e-836f2bdc609a"
      },
      "outputs": [],
      "source": [
        "height, width = image_data.shape\n",
        "\n",
        "center = (width / 2, height/ 2)\n",
        "\n",
        "# Perform the rotation\n",
        "M = cv2.getRotationMatrix2D(center, angle, 1.0)\n",
        "rotated = cv2.warpAffine(diff_image, M, (width, height))\n",
        "\n",
        "plt.imshow(rotated, vmin=-50, vmax=50,  origin='lower')"
      ]
    },
    {
      "cell_type": "code",
      "execution_count": null,
      "metadata": {
        "colab": {
          "base_uri": "https://localhost:8080/"
        },
        "id": "0nCimDcq1lGP",
        "outputId": "8de3df90-015a-4568-ed7e-b37f3e3e81c5"
      },
      "outputs": [],
      "source": [
        "np.amax(diff_image)"
      ]
    },
    {
      "cell_type": "markdown",
      "metadata": {
        "id": "o1BPopECEwqJ"
      },
      "source": [
        "**Function to Rotate Image**"
      ]
    },
    {
      "cell_type": "code",
      "execution_count": null,
      "metadata": {
        "id": "WAWVndSuEdkH"
      },
      "outputs": [],
      "source": [
        "def rotate(image, angle, center = None, scale = 1.0):\n",
        "    height, width = image.shape\n",
        "\n",
        "    if center is None:\n",
        "        center = (width / 2, height/ 2)\n",
        "\n",
        "    # Perform the rotation\n",
        "    M = cv2.getRotationMatrix2D(center, angle, scale)\n",
        "    rotated = cv2.warpAffine(image, M, (width, height))\n",
        "\n",
        "    return rotated"
      ]
    },
    {
      "cell_type": "markdown",
      "metadata": {
        "id": "4gtJkEGYAsBI"
      },
      "source": [
        "## Intensity Transformation Operations on Images"
      ]
    },
    {
      "cell_type": "markdown",
      "metadata": {
        "id": "3LXe4aP_LFS1"
      },
      "source": [
        "**Piecewise-Linear Transformation Functions –**"
      ]
    },
    {
      "cell_type": "code",
      "execution_count": null,
      "metadata": {
        "id": "Kc08d00MmZyP"
      },
      "outputs": [],
      "source": [
        "# Function to map each intensity level to output intensity level.\n",
        "def pixelVal(pix, r1, s1, r2, s2):\n",
        "    if (0 <= pix and pix <= r1):\n",
        "        return (s1 / r1)*pix\n",
        "    elif (r1 < pix and pix <= r2):\n",
        "        return ((s2 - s1)/(r2 - r1)) * (pix - r1) + s1\n",
        "    else:\n",
        "        return ((255 - s2)/(255 - r2)) * (pix - r2) + s2"
      ]
    },
    {
      "cell_type": "markdown",
      "metadata": {
        "id": "EvCx6aYvK6ji"
      },
      "source": [
        "**Power-Law (Gamma) Transformation –**"
      ]
    },
    {
      "cell_type": "code",
      "execution_count": null,
      "metadata": {
        "id": "JMiNthFZKuth"
      },
      "outputs": [],
      "source": [
        "def gammaVal(img):\n",
        "  # Trying 4 gamma values.\n",
        "  for gamma in [6]:\n",
        "    \n",
        "    # Apply gamma correction.\n",
        "    gamma_corrected = np.array(255*(img / 255) ** gamma, dtype = 'uint8')\n",
        "\n",
        "  return (gamma_corrected)"
      ]
    },
    {
      "cell_type": "code",
      "execution_count": null,
      "metadata": {
        "colab": {
          "base_uri": "https://localhost:8080/"
        },
        "id": "lTy0GNenx9wd",
        "outputId": "0bab55ff-3f6b-44d1-8566-9e29a54651ce"
      },
      "outputs": [],
      "source": [
        "np.amin(image_data)"
      ]
    },
    {
      "cell_type": "code",
      "execution_count": null,
      "metadata": {
        "colab": {
          "base_uri": "https://localhost:8080/"
        },
        "id": "_JI1LQt_zBfD",
        "outputId": "eec50785-2a8b-4e3a-8b18-9b68e73247e3"
      },
      "outputs": [],
      "source": [
        "np.amax(image_data)"
      ]
    },
    {
      "cell_type": "markdown",
      "metadata": {
        "id": "FZFdRFplTVSk"
      },
      "source": [
        "## Reading the .fts files from the folder\n",
        "\n"
      ]
    },
    {
      "cell_type": "code",
      "execution_count": null,
      "metadata": {
        "id": "WH6uZw-TTV03"
      },
      "outputs": [],
      "source": [
        "image_filename = glob.glob('/home/dev/Sun/Aditya_L1/day2/VSO_Data/Fido_Sunpy/LASCO_old/*.fts')"
      ]
    },
    {
      "cell_type": "code",
      "execution_count": null,
      "metadata": {
        "id": "Ir2Di2aLIUOW"
      },
      "outputs": [],
      "source": [
        "# setting the background as None in the beginning\n",
        "image_file1 = get_pkg_data_filename(image_filename[0])\n",
        "image_data1 = fits.getdata(image_file1, ext=0)\n",
        "height, width = image_data1.shape\n",
        "if height ==512:\n",
        "  I2 = skimage.transform.resize(image_data1,np.asarray(image_data1.shape)/1,\\\n",
        "                              order=3,preserve_range=True,anti_aliasing=True)\n",
        "else:\n",
        "  I2 = skimage.transform.resize(image_data1,np.asarray(image_data1.shape)/2,\\\n",
        "                              order=3,preserve_range=True,anti_aliasing=True)\n",
        "bgframe = I2"
      ]
    },
    {
      "cell_type": "code",
      "execution_count": null,
      "metadata": {
        "colab": {
          "base_uri": "https://localhost:8080/",
          "height": 1000
        },
        "id": "voEe7TBy9Ryd",
        "outputId": "08d4eb2d-de5f-4f47-e504-39ae170fc532"
      },
      "outputs": [],
      "source": [
        "ii=1\n",
        "\n",
        "plt.figure(1)\n",
        "plt.clf()\n",
        "\n",
        "# On-screen, things will be displayed at 80dpi regardless of what we set here\n",
        "# This is effectively the dpi for the saved figure. We need to specify it,\n",
        "# otherwise `savefig` will pick a default dpi based on your local configuration\n",
        "dpi = 300\n",
        "\n",
        "nf = len(image_filename)\n",
        "\n",
        "for index in range(1, nf):\n",
        "  image_file = get_pkg_data_filename(image_filename[index])\n",
        "  image_data = fits.getdata(image_file, ext=0)\n",
        "\n",
        "  # in the very first iteration of while loop our background (bgframe) will be None so need to provide the\n",
        "  # frame as background\n",
        "  if bgframe is None:\n",
        "    bgframe = image_filename[0]\n",
        "\n",
        "  height, width = image_data.shape\n",
        "  if height ==512:\n",
        "    I1 = skimage.transform.resize(image_data,np.asarray(image_data.shape)/1,\\\n",
        "                                order=3,preserve_range=True,anti_aliasing=True)\n",
        "  else:\n",
        "    I1 = skimage.transform.resize(image_data,np.asarray(image_data.shape)/2,\\\n",
        "                                order=3,preserve_range=True,anti_aliasing=True)\n",
        "\n",
        "  data, header = read_file(image_file)[0]\n",
        "  angle = header['CROTA2']\n",
        "\n",
        "\n",
        "  height, width = I1.shape\n",
        "\n",
        "  # What size does the figure need to be in inches to fit the image?\n",
        "  figsize = width / float(dpi), height / float(dpi)\n",
        "\n",
        "\n",
        "  # Create a figure of the right size with one axes that takes up the full figure\n",
        "  fig = plt.figure(figsize=figsize)\n",
        "  ax = fig.add_axes([0, 0, 1, 1])\n",
        "\n",
        "  # Hide spines, ticks, etc.\n",
        "  ax.axis('off')\n",
        "\n",
        "##            # Display the image.\n",
        "##            ax.imshow(I, interpolation='nearest')\n",
        "\n",
        "\n",
        "  # Ensure we're displaying with square pixels and the right extent.\n",
        "  # This is optional if you haven't called `plot` or anything else that might\n",
        "  # change the limits/aspect.  We don't need this step in this case.\n",
        "  ax.set(xlim=[0, width], ylim=[height, 0], aspect=1)\n",
        "\n",
        "  dif_image=bgframe-I1\n",
        "  \n",
        "  rotated_dif_image = rotate(dif_image, angle, center = None, scale = 1.0)\n",
        "\n",
        "  plt.imshow(rotated_dif_image, vmin=-400, vmax=100,  origin='lower')\n",
        "  plt.axis('off')\n",
        "  fig.savefig('/home/dev/Sun/Aditya_L1/day2'+str(ii) +'.png',dpi=dpi, transparent=True)\n",
        "  ii=ii+1"
      ]
    },
    {
      "cell_type": "code",
      "execution_count": null,
      "metadata": {
        "colab": {
          "base_uri": "https://localhost:8080/"
        },
        "id": "qFiTxcrsfqWL",
        "outputId": "42f38ddd-c1b0-45e5-d9b0-6f0471eedcf3"
      },
      "outputs": [],
      "source": [
        "np.amin(dif_image)"
      ]
    },
    {
      "cell_type": "markdown",
      "metadata": {
        "id": "ZG4VxtknA0zU"
      },
      "source": [
        "## Function to create video"
      ]
    },
    {
      "cell_type": "code",
      "execution_count": null,
      "metadata": {
        "id": "z5jOwRSFLHLR"
      },
      "outputs": [],
      "source": [
        "def video_creation(input_file,output_file):\n",
        "  img_array = []\n",
        "  for filename in glob.glob(input_file +'/*.png'):\n",
        "    img = cv2.imread(filename)\n",
        "    height, width, layers = img.shape\n",
        "    size = (width,height)\n",
        "    img_array.append(img)\n",
        "\n",
        "  out = cv2.VideoWriter(output_file +'/project2.avi',cv2.VideoWriter_fourcc(*'DIVX'), 1, size)\n",
        "\n",
        "  for i in range(len(img_array)):\n",
        "    out.write(img_array[i])\n",
        "\n",
        "  out.release()"
      ]
    },
    {
      "cell_type": "markdown",
      "metadata": {
        "id": "6WAjFTlQERpg"
      },
      "source": [
        "Video creation from output enhanced images"
      ]
    },
    {
      "cell_type": "code",
      "execution_count": null,
      "metadata": {
        "id": "MslETSkDB_tu"
      },
      "outputs": [],
      "source": [
        "input_file = '/home/dev/Sun/Aditya_L1/day2/VSO_Data/Solar_Movie/Results/Enhanced_Image/'\n",
        "output_file = '/home/dev/Sun/Aditya_L1/day2/VSO_Data/Solar_Movie/Results/Resultant_movie/'\n",
        "video_creation(input_file,output_file)"
      ]
    },
    {
      "cell_type": "markdown",
      "metadata": {
        "id": "BWvkmgTzEBMU"
      },
      "source": [
        "## Function to display video"
      ]
    },
    {
      "cell_type": "code",
      "execution_count": null,
      "metadata": {
        "colab": {
          "base_uri": "https://localhost:8080/"
        },
        "id": "U47Kx8B8hfY3",
        "outputId": "69f56781-a231-4ebd-e548-0d100aed04fa"
      },
      "outputs": [],
      "source": [
        "%pip install imageio-ffmpeg"
      ]
    },
    {
      "cell_type": "code",
      "execution_count": null,
      "metadata": {
        "id": "u066H_7-hF6R"
      },
      "outputs": [],
      "source": [
        "import imageio\n",
        "from skimage.transform import resize\n",
        "from IPython.display import HTML\n",
        "\n",
        "def display_video(video):\n",
        "    fig = plt.figure(figsize=(10,10))  #Display size specification\n",
        "\n",
        "    mov = []\n",
        "    for i in range(len(video)):  #Append videos one by one to mov\n",
        "        img = plt.imshow(video[i], animated=True)\n",
        "        plt.axis('off')\n",
        "        mov.append([img])\n",
        "\n",
        "    #Animation creation\n",
        "    anime = animation.ArtistAnimation(fig, mov, interval=100, repeat_delay=1000)\n",
        "\n",
        "    plt.close()\n",
        "    return anime\n"
      ]
    },
    {
      "cell_type": "markdown",
      "metadata": {
        "id": "9AzWTqzRE1Ml"
      },
      "source": [
        "Display the created video"
      ]
    },
    {
      "cell_type": "code",
      "execution_count": null,
      "metadata": {
        "colab": {
          "base_uri": "https://localhost:8080/",
          "height": 742
        },
        "id": "yFNIJneGEtkd",
        "outputId": "0b2a111f-ba2f-414f-aefd-ed631a812925"
      },
      "outputs": [],
      "source": [
        "video = imageio.mimread(output_file + '/project2.avi')  #Loading video\n",
        "#video = [resize(frame, (256, 256))[..., :3] for frame in video]    #Size adjustment (if necessary)\n",
        "HTML(display_video(video).to_html5_video())  #Inline video display in HTML5"
      ]
    },
    {
      "cell_type": "code",
      "execution_count": null,
      "metadata": {
        "id": "bNP-LPph4Z8A"
      },
      "outputs": [],
      "source": [
        "# load the video file\n",
        "cap = cv2.VideoCapture('/home/dev/Sun/Aditya_L1/day2/VSO_Data/Solar_Movie/Results/Resultant_movie/project2.avi')"
      ]
    },
    {
      "cell_type": "code",
      "execution_count": null,
      "metadata": {
        "id": "N_u7Qo__qa_H"
      },
      "outputs": [],
      "source": [
        "# setting the background as None in the beginning\n",
        "bgframe = None"
      ]
    },
    {
      "cell_type": "code",
      "execution_count": null,
      "metadata": {
        "colab": {
          "base_uri": "https://localhost:8080/",
          "height": 546
        },
        "id": "6vlgwgZYqlAS",
        "outputId": "5ecae2c9-bd4a-42e5-866b-81094c57404c"
      },
      "outputs": [],
      "source": [
        "i=1\n",
        "fig = plt.figure(figsize=(8,8))  #Display size specification\n",
        "\n",
        "while True:\n",
        "    # access the frame from the video\n",
        "    success,img = cap.read()\n",
        "\n",
        "    # check if we get the frame\n",
        "    if success == True:\n",
        "        # resizing the frame because there is no need to process a large size frame\n",
        "        ##img = cv2.resize(img,(600,500))\n",
        "        # change the bgr frame into grayscale  format\n",
        "        gray = cv2.cvtColor(img,cv2.COLOR_BGR2GRAY)\n",
        "\n",
        "        # Applying Gaussian Blur on the Frame heavily to avoid any change in pixels intensity that\n",
        "        # may occur due to camera sensor as no camera can capture a 100% accurate image.\n",
        "        gray = cv2.GaussianBlur(gray,(25,25),0)\n",
        "\n",
        "        # in the very first iteration of while loop our background (bgframe) will be None so need to provide the\n",
        "        # frame as background\n",
        "        if bgframe is None:\n",
        "            bgframe = gray\n",
        "\n",
        "        # Compute the difference between the first  frame (background) and current frame\n",
        "        # using simple subtraction\n",
        "        # delta = |background- current frame(|\n",
        "        frameDelta = cv2.absdiff(bgframe, gray)\n",
        "\n",
        "        # if any pixel value in 'frameDelta' is less than 25, we discard the pixel and set it to black (i.e. background).\n",
        "        # If it is greater than 25, we’ll set it to white (i.e. foreground)\n",
        "        _,thresh = cv2.threshold(frameDelta,35,255,cv2.THRESH_BINARY)\n",
        "\n",
        "        # creating a kernel of 7x7\n",
        "        kernel = np.ones((7, 7), np.uint8)\n",
        "        \n",
        "        # dilating the frame\n",
        "        thresh = cv2.dilate(thresh, None, iterations=6)\n",
        "        # finding the contours\n",
        "        contours, heirarchy = cv2.findContours(thresh,cv2.RETR_EXTERNAL,cv2.CHAIN_APPROX_SIMPLE)\n",
        "\n",
        "        for contour in contours:\n",
        "            # finding area of contour\n",
        "            area = cv2.contourArea(contour)\n",
        "            print(area)\n",
        "            # if area greater than the specified value the only then we will consider it\n",
        "            if area > 1500:\n",
        "                # find the rectangle co-ordinates\n",
        "                x,y,w,h = cv2.boundingRect(contour)\n",
        "\n",
        "                # and then draw it to indicate the moving object\n",
        "                cv2.rectangle(img,(x,y),(x+w,y+h),(255,0,255),3)\n",
        "                cv2.putText(img,'MOTION DETECTED',(x,y-5),cv2.FONT_HERSHEY_SIMPLEX,0.5,(255,0,0),2)\n",
        "\n",
        "        # displaying the frame\n",
        "        ##cv2_imshow(img)\n",
        "        #cv2.imwrite('/home/dev/Sun/Aditya_L1/day2/VSO_Data/Solar_Movie/Results/Resultant_frame/image'+str(i)+'.png', img)\n",
        "        ##cv2_imshow(thresh)\n",
        "        cv2.imwrite('/home/dev/Sun/Aditya_L1/day2/VSO_Data/Solar_Movie/Results/Threshold_frame/image'+str(i)+'.png', thresh)\n",
        "\n",
        "        # Make the grey scale image have three channels\n",
        "        grey_3_channel = cv2.cvtColor(thresh, cv2.COLOR_GRAY2BGR)\n",
        "        ##grey_3_channel = thresh\n",
        "        numpy_horizontal = np.hstack((img, grey_3_channel))\n",
        "        ##cv2_imshow(numpy_horizontal)\n",
        "\n",
        "        clear_output()\n",
        "        cv2_imshow(numpy_horizontal)\n",
        "        #plt.show()\n",
        "        sleep(0.5) #demo: it show the img even when halted\n",
        "\n",
        "        ##plt.close()\n",
        "        \n",
        "        cv2.imwrite('/home/dev/Sun/Aditya_L1/day2/VSO_Data/Solar_Movie/Results/Horizontal/image'+str(i)+'.png', numpy_horizontal)\n",
        "        cv2.waitKey(0)\n",
        "        i=i+1\n",
        "    else:\n",
        "        break"
      ]
    },
    {
      "cell_type": "markdown",
      "metadata": {
        "id": "JGv13uxMip5_"
      },
      "source": [
        "Video creation from output horizontal images"
      ]
    },
    {
      "cell_type": "code",
      "execution_count": null,
      "metadata": {
        "id": "Bxc0U0pDiqj2"
      },
      "outputs": [],
      "source": [
        "input_file = '/home/dev/Sun/Aditya_L1/day2/VSO_Data/Solar_Movie/Results/Horizontal/'\n",
        "output_file = '/home/dev/Sun/Aditya_L1/day2/VSO_Data/Solar_Movie/Results/Resultant_movie/H/'\n",
        "video_creation(input_file,output_file)"
      ]
    },
    {
      "cell_type": "code",
      "execution_count": null,
      "metadata": {
        "id": "2NXInUezOrxK"
      },
      "outputs": [],
      "source": [
        "cap=cv2.VideoCapture('/home/dev/Sun/Aditya_L1/day2/VSO_Data/Solar_Movie/Results/Resultant_movie/H/project2.avi')\n",
        "\n",
        "# Check if camera opened successfully\n",
        "if (cap.isOpened()== False):\n",
        "    print(\"Error opening video file\")\n",
        "  \n",
        "# Read until video is completed\n",
        "while(cap.isOpened()):\n",
        "      \n",
        "# Capture frame-by-frame\n",
        "    ret, frame = cap.read()\n",
        "    if ret == True:\n",
        "    # Display the resulting frame\n",
        "        ##cv2_imshow(frame)\n",
        "          \n",
        "    # Press Q on keyboard to exit\n",
        "        if cv2.waitKey(25) & 0xFF == ord('q'):\n",
        "            break\n",
        "  \n",
        "# Break the loop\n",
        "    else:\n",
        "        break\n",
        "  \n",
        "# When everything done, release\n",
        "# the video capture object\n",
        "cap.release()"
      ]
    },
    {
      "cell_type": "code",
      "execution_count": null,
      "metadata": {
        "colab": {
          "base_uri": "https://localhost:8080/",
          "height": 742
        },
        "id": "yf3V1HzWhQgy",
        "outputId": "a042b1fd-7d6d-49b9-8d98-b8e6a19b5ca5"
      },
      "outputs": [],
      "source": [
        "video = imageio.mimread('/home/dev/Sun/Aditya_L1/day2/VSO_Data/Solar_Movie/Results/Resultant_movie/H/project2.avi')  #Loading video\n",
        "#video = [resize(frame, (256, 256))[..., :3] for frame in video]    #Size adjustment (if necessary)\n",
        "HTML(display_video(video).to_html5_video())  #Inline video display in HTML5"
      ]
    },
    {
      "cell_type": "code",
      "execution_count": null,
      "metadata": {
        "id": "B4UgSFSoq6MC"
      },
      "outputs": [],
      "source": [
        "cap.release()\n",
        "# Closes all the frames\n",
        "cv2.destroyAllWindows()"
      ]
    },
    {
      "cell_type": "markdown",
      "metadata": {
        "id": "rMH6F9GTzCIG"
      },
      "source": [
        "## Find the Center of a Blob (Centroid)"
      ]
    },
    {
      "cell_type": "code",
      "execution_count": null,
      "metadata": {
        "colab": {
          "base_uri": "https://localhost:8080/",
          "height": 581
        },
        "id": "AvYnzixuxHsQ",
        "outputId": "8574116a-7f2a-46e5-d9fb-b13e656b5e93"
      },
      "outputs": [],
      "source": [
        "# read image through command line\n",
        "img = cv2.imread('/home/dev/Sun/Aditya_L1/day2/VSO_Data/Solar_Movie/Results/Threshold_frame/image5.png')\n",
        "\n",
        "# convert image to grayscale image\n",
        "gray_image = cv2.cvtColor(img, cv2.COLOR_BGR2GRAY)\n",
        " \n",
        "# convert the grayscale image to binary image\n",
        "ret,thresh = cv2.threshold(gray_image,127,255,0)\n",
        " \n",
        "# calculate moments of binary image\n",
        "M = cv2.moments(thresh)\n",
        " \n",
        "# calculate x,y coordinate of center\n",
        "cX = int(M[\"m10\"] / M[\"m00\"])\n",
        "cY = int(M[\"m01\"] / M[\"m00\"])\n",
        "\n",
        "# put text and highlight the center\n",
        "cv2.circle(img, (cX, cY), 5, (0,255,255), -1)\n",
        "cv2.putText(img, \"centroid\", (cX - 25, cY - 25),cv2.FONT_HERSHEY_SIMPLEX, 0.5, (0,255, 255), 2)\n",
        "\n",
        "width, height = img.shape[1], img.shape[0]\n",
        "mid_x, mid_y = int(width/2), int(height/2)\n",
        "print(mid_x)\n",
        "print(mid_y)\n",
        "\n",
        "#Draw center line\n",
        "cv2.line(img, (0, mid_y), (width, mid_y), color=(255, 0, 255), thickness=2)\n",
        "cv2.line(img, (mid_x, 0), (mid_x, height), color=(255, 0, 255), thickness=2)\n",
        " \n",
        "# display the image\n",
        "cv2_imshow(img)\n",
        "cv2.waitKey(0)"
      ]
    },
    {
      "cell_type": "code",
      "execution_count": null,
      "metadata": {
        "colab": {
          "base_uri": "https://localhost:8080/"
        },
        "id": "p7RNqpE9y3m4",
        "outputId": "fcfcb568-bcf4-450f-ba3e-2045b24823fa"
      },
      "outputs": [],
      "source": [
        "print(cX)\n",
        "print(cY)\n"
      ]
    },
    {
      "cell_type": "code",
      "execution_count": null,
      "metadata": {
        "id": "hLoI0Vg09pdp"
      },
      "outputs": [],
      "source": [
        "# Import math Library\n",
        "import math"
      ]
    },
    {
      "cell_type": "code",
      "execution_count": null,
      "metadata": {
        "colab": {
          "base_uri": "https://localhost:8080/"
        },
        "id": "WD3bshhu8kzx",
        "outputId": "497401cd-8710-4295-8249-fd75dfef5dbb"
      },
      "outputs": [],
      "source": [
        "center = [mid_x, mid_y]\n",
        "vector_1= [center[0], center[1]]\n",
        "vector_2 = [cX, cY]\n",
        "unit_vector_2 = vector_1 / np.linalg.norm(vector_1)\n",
        "unit_vector_1 = vector_2 / np.linalg.norm(vector_2)\n",
        "dot_product = np.dot(unit_vector_1, unit_vector_2)\n",
        "angle = np.arccos(dot_product)\n",
        "degrees = math.degrees(angle)\n",
        "print(degrees)"
      ]
    }
  ],
  "metadata": {
    "colab": {
      "provenance": []
    },
    "kernelspec": {
      "display_name": "Python 3",
      "language": "python",
      "name": "python3"
    },
    "language_info": {
      "name": "python",
      "version": "3.10.6"
    },
    "vscode": {
      "interpreter": {
        "hash": "916dbcbb3f70747c44a77c7bcd40155683ae19c65e1c03b4aa3499c5328201f1"
      }
    }
  },
  "nbformat": 4,
  "nbformat_minor": 0
}
