{
 "cells": [
  {
   "cell_type": "code",
   "execution_count": null,
   "metadata": {},
   "outputs": [],
   "source": [
    "import numpy as np\n",
    "import matplotlib.pyplot as plt \n",
    "import warnings\n",
    "warnings.filterwarnings(\"ignore\")\n",
    "plt.figure(figsize=(10,6),dpi=1200)\n",
    "\n",
    "m = 9.1*10**(-31)\n",
    "e = 1.6*10**(-19)\n",
    "\n",
    "\n",
    "N = np.arange(0.1,5.1,0.00005)\n",
    "\n",
    "A = np.sqrt(4*np.pi*N*(e**2)/m)  # Tyler et al. 1977\n",
    "B = np.sqrt(N*(e**2)/(np.pi*m))                       # Beman et al. 1977\n",
    "\n",
    "%matplotlib qt\n",
    "plt.plot(N,A, label = \"Yamato\")\n",
    "plt.plot(N,B, label = \"Di\")\n",
    "\n",
    "\n",
    "plt.yscale('log')\n",
    "# plt.title(\"Electron Density in IPS\")\n",
    "# plt.gca().set_aspect('equal', adjustable='box')\n",
    "plt.legend(loc='best')\n",
    "# plt.ylim(10**(-8),10**15)\n",
    "# plt.xlim(0,5)\n",
    "# plt.ylabel(\"$N_T(r) \\longrightarrow$\")\n",
    "# plt.xlabel(\"Distance b/w Sun and probe (in AU) \")\n",
    "plt.tight_layout()\n",
    "# plt.savefig('models_density.png')\n",
    "plt.show()\n"
   ]
  }
 ],
 "metadata": {
  "kernelspec": {
   "display_name": "Python 3.10.4 64-bit",
   "language": "python",
   "name": "python3"
  },
  "language_info": {
   "name": "python",
   "version": "3.10.4"
  },
  "orig_nbformat": 4,
  "vscode": {
   "interpreter": {
    "hash": "916dbcbb3f70747c44a77c7bcd40155683ae19c65e1c03b4aa3499c5328201f1"
   }
  }
 },
 "nbformat": 4,
 "nbformat_minor": 2
}
