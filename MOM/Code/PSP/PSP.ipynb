{
 "cells": [
  {
   "cell_type": "code",
   "execution_count": null,
   "metadata": {},
   "outputs": [],
   "source": [
    "#-----------------------------------------------------------------------------------------------------------------\n",
    "#importing libraries\n",
    "from __future__ import print_function, division\n",
    "import pandas as pd\n",
    "import numpy as np\n",
    "import plotly.express as px\n",
    "import matplotlib.pyplot as plt\n",
    "import scipy.interpolate as interp\n",
    "import argparse\n",
    "import copy\n",
    "import datetime\n",
    "import math\n",
    "from matplotlib.gridspec import GridSpec\n",
    "global low, up\n",
    "from astropy.io import fits as f\n",
    "from astropy.table import Table as t\n",
    "from astropy.utils.data import download_file\n",
    "import matplotlib.pyplot as plt\n",
    "from astropy.visualization import astropy_mpl_style\n",
    "from mpl_toolkits import mplot3d\n",
    "from scipy.optimize import curve_fit\n",
    "import scipy.optimize as so\n",
    "import warnings\n",
    "warnings.filterwarnings(\"ignore\")\n",
    "#-----------------------------------------------------------------------------------------------------------------"
   ]
  },
  {
   "cell_type": "code",
   "execution_count": null,
   "metadata": {},
   "outputs": [],
   "source": [
    "# -----------------------------------------------------------------------------------------------------------------\n",
    "#importing data from my GitHub\n",
    "url2 = 'https://raw.githubusercontent.com/jovian-explorer/Sun/main/MOM/DATA/output_expdopp_4point_287.txt'\n",
    "pd.set_option('display.max_columns', None) \n",
    "pd.set_option('display.max_rows', None)  \n",
    "pd.set_option('display.max_colwidth', None)\n",
    "dataset2 = pd.read_csv(url2,delimiter = '\\t')\n",
    "print(dataset2.head(5))\n",
    "dataset2.columns = [\"i\",\"timesec\",\"power_total\",\"dopp_firstmoment\",\"second_moment\",'exp_dopp']\n",
    "second_moment = np.array(dataset2.second_moment)\t        # Values of second_moment\n",
    "timesec = np.array(dataset2.timesec)\t\n",
    "zeroth_moment= np.array(dataset2.power_total)  \n",
    "first_moment= np.array(dataset2.dopp_firstmoment)  \n",
    "second_moment= np.array(dataset2.second_moment)  \n",
    "exp_dopp= np.array(dataset2.exp_dopp)            \t        # Values of exp_dopp\n",
    "# -----------------------------------------------------------------------------------------------------------------"
   ]
  }
 ],
 "metadata": {
  "kernelspec": {
   "display_name": "Python 3",
   "language": "python",
   "name": "python3"
  },
  "language_info": {
   "name": "python",
   "version": "3.10.6"
  },
  "orig_nbformat": 4,
  "vscode": {
   "interpreter": {
    "hash": "916dbcbb3f70747c44a77c7bcd40155683ae19c65e1c03b4aa3499c5328201f1"
   }
  }
 },
 "nbformat": 4,
 "nbformat_minor": 2
}
