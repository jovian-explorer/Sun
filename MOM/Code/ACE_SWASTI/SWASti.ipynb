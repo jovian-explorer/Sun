{
 "cells": [
  {
   "cell_type": "code",
   "execution_count": 34,
   "metadata": {},
   "outputs": [
    {
     "name": "stdout",
     "output_type": "stream",
     "text": [
      "                   Epoch         vel\n",
      "0    2021-10-01 00:00:00  376.597426\n",
      "1    2021-10-01 01:00:00  377.844237\n",
      "2    2021-10-01 02:00:00  376.730661\n",
      "3    2021-10-01 03:00:00  373.980403\n",
      "4    2021-10-01 04:00:00  377.900998\n",
      "..                   ...         ...\n",
      "355  2021-10-15 19:00:00  308.732973\n",
      "356  2021-10-15 20:00:00  307.907438\n",
      "357  2021-10-15 21:00:00  314.791935\n",
      "358  2021-10-15 22:00:00  326.378514\n",
      "359  2021-10-15 23:00:00  338.124416\n",
      "\n",
      "[360 rows x 2 columns]\n"
     ]
    }
   ],
   "source": [
    "import csv\n",
    "import numpy as np\n",
    "import pandas as pd\n",
    "import matplotlib.pyplot as plt\n",
    "\n",
    "input_file_path = \"/home/dev/Desktop/keshav1.csv\"\n",
    "\n",
    "data = pd.read_csv(input_file_path,delimiter='\\t')\n",
    "print(data)\n",
    "\n",
    "data.columns = [\"Epoch\", \"vel\"]\n",
    "Epoch_data = np.array(data.Epoch)\n",
    "VEL_data = np.array(data.vel)"
   ]
  },
  {
   "cell_type": "code",
   "execution_count": 85,
   "metadata": {},
   "outputs": [],
   "source": [
    "data['Epoch'] = pd.to_datetime(data['Epoch'])\n",
    "\n",
    "date_data = np.array(data.Epoch)\n",
    "velocity_data = np.array(data.vel)\n",
    "\n"
   ]
  },
  {
   "cell_type": "code",
   "execution_count": 90,
   "metadata": {},
   "outputs": [
    {
     "name": "stdout",
     "output_type": "stream",
     "text": [
      "                   Epoch         vel\n",
      "0    2021-10-01 00:00:00  376.597426\n",
      "1    2021-10-01 01:00:00  377.844237\n",
      "2    2021-10-01 02:00:00  376.730661\n",
      "3    2021-10-01 03:00:00  373.980403\n",
      "4    2021-10-01 04:00:00  377.900998\n",
      "..                   ...         ...\n",
      "355  2021-10-15 19:00:00  308.732973\n",
      "356  2021-10-15 20:00:00  307.907438\n",
      "357  2021-10-15 21:00:00  314.791935\n",
      "358  2021-10-15 22:00:00  326.378514\n",
      "359  2021-10-15 23:00:00  338.124416\n",
      "\n",
      "[360 rows x 2 columns]\n"
     ]
    }
   ],
   "source": [
    "#This snippet was used to take only one of the 24 values given for each day, to reduce the cadence to - 1day\n",
    "\n",
    "n = 24  # Change this value to choose the interval of rows you want to keep\n",
    "\n",
    "input_file_path = \"/home/dev/Desktop/keshav1.csv\"\n",
    "output_file_path = \"/home/dev/Desktop/keshav1_Averaged.csv\"\n",
    "\n",
    "data = pd.read_csv(input_file_path,delimiter='\\t')\n",
    "print(data)\n",
    "\n",
    "# # Read input file and write every nth row to output file\n",
    "# with open(input_file_path, 'r', newline='') as infile, open(output_file_path, 'w', newline='') as outfile:\n",
    "#     reader = csv.reader(infile)\n",
    "#     writer = csv.writer(outfile)\n",
    "    \n",
    "#     # Write the header row to the output file\n",
    "#     header = next(reader)\n",
    "#     writer.writerow(header)\n",
    "    \n",
    "#     # Loop through the remaining rows, writing every nth row to the output file\n",
    "#     for index, row in enumerate(reader, start=1):\n",
    "#         if index % n == 0:\n",
    "#             writer.writerow(row)"
   ]
  },
  {
   "cell_type": "code",
   "execution_count": 120,
   "metadata": {},
   "outputs": [
    {
     "name": "stdout",
     "output_type": "stream",
     "text": [
      "         Epoch         vel      MOM      err\n",
      "0   2021-10-01  309.555577      NaN      NaN\n",
      "1   2021-10-02  353.748284  430.575   86.115\n",
      "2   2021-10-03  323.824307  282.075   56.415\n",
      "3   2021-10-04  367.404889  316.600   63.320\n",
      "4   2021-10-05  385.420246      NaN      NaN\n",
      "5   2021-10-06  418.851659      NaN      NaN\n",
      "6   2021-10-07  441.265641      NaN      NaN\n",
      "7   2021-10-08  457.029420      NaN      NaN\n",
      "8   2021-10-09  323.957180      NaN      NaN\n",
      "9   2021-10-10  286.415002      NaN      NaN\n",
      "10  2021-10-11  374.603686      NaN      NaN\n",
      "11  2021-10-12  330.512360  473.825   94.765\n",
      "12  2021-10-13  347.736315  532.100  106.420\n",
      "13  2021-10-14  361.001364  651.500  130.300\n",
      "14  2021-10-15  338.124416      NaN      NaN\n"
     ]
    }
   ],
   "source": [
    "input_file_path = \"/home/dev/Desktop/keshav1_Averaged.csv\"\n",
    "\n",
    "AVERAGED_FILE = pd.read_csv(input_file_path,delimiter='\\t')\n",
    "print(AVERAGED_FILE)\n",
    "\n",
    "AVERAGED_FILE.columns = [\"Epoch\", \"vel\",\"MOM\",\"err\"]\n",
    "Epoch_averaged= np.array(AVERAGED_FILE.Epoch)\n",
    "VEL_averaged = np.array(AVERAGED_FILE.vel)\n",
    "MOM=np.array(AVERAGED_FILE.MOM)\n",
    "err = np.array(AVERAGED_FILE.err)"
   ]
  },
  {
   "cell_type": "code",
   "execution_count": 135,
   "metadata": {},
   "outputs": [
    {
     "data": {
      "text/plain": [
       "<ErrorbarContainer object of 3 artists>"
      ]
     },
     "execution_count": 135,
     "metadata": {},
     "output_type": "execute_result"
    },
    {
     "data": {
      "image/png": "[encoded data removed]",
      "text/plain": [
       "<Figure size 2400x400 with 1 Axes>"
      ]
     },
     "metadata": {},
     "output_type": "display_data"
    }
   ],
   "source": [
    "\n",
    "fig = plt.figure(figsize = (30,5),dpi =80)\n",
    "pl = fig.add_subplot(1, 1, 1)\n",
    "\n",
    "# rad_MOM_RS = (8.1,6.92,5.77,5.24,6.33,7.49)\n",
    "# rad_MOM_AU = (0.0376682,0.03218077,0.0268328,0.024368,0.0294370387,0.034831504)\n",
    "# date_MOM_AU = ('2021-10-02','2021-10-03','2021-10-04','2021-10-12', '2021-10-13', '2021-10-14')\n",
    "# MOM = (172.2372178,112.83713799,126.64897552,189.53094138,212.84972353,260.6076649290)\n",
    "\n",
    "plt.scatter(Epoch_averaged,VEL_averaged,s=40,label = \"Swasti_GONG\")\n",
    "plt.scatter(Epoch_averaged,MOM,color = 'k',s=40,label = \"MOM\")\n",
    "plt.legend()\n",
    "\n",
    "pl.errorbar(Epoch_averaged,MOM, yerr=err,fmt='o',color = 'k',label = \"MOM\")"
   ]
  }
 ],
 "metadata": {
  "kernelspec": {
   "display_name": "Python 3",
   "language": "python",
   "name": "python3"
  },
  "language_info": {
   "codemirror_mode": {
    "name": "ipython",
    "version": 3
   },
   "file_extension": ".py",
   "mimetype": "text/x-python",
   "name": "python",
   "nbconvert_exporter": "python",
   "pygments_lexer": "ipython3",
   "version": "3.10.6"
  },
  "orig_nbformat": 4
 },
 "nbformat": 4,
 "nbformat_minor": 2
}
