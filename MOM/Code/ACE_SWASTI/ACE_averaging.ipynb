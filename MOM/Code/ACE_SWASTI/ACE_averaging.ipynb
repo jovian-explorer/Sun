{
 "cells": [
  {
   "cell_type": "code",
   "execution_count": 1,
   "metadata": {},
   "outputs": [],
   "source": [
    "#\tBEGIN\tMETADATA\n",
    "#\tSWICS\t12-Minute\tAveraged\tSolar\tWind\tProton\tParameters\n",
    "#\tData\tdownloaded\tfrom\tACE\tScience\tCenter\ton\tSun\tApr\t23\t02:28:51\t2023\n",
    "#\tSWICS/SWIMS\tTeam\tSoftware\tVersion:\t1.2\n",
    "#\tSWICS/SWIMS\tTeam\tTime/Date\tProcessed:\tJun\t24\t\t15:54:50\t2022\n",
    "#\tACE\tScience\tCenter\tLevel2\tSoftware\tVersion:\t1.5\n",
    "#\tACE\tScience\tCenter\tProcessing\tDate/Time:\tMon\tJul\t11\t10:20:43\tPDT\t2022\n",
    "#\tNote:\tAll\ttimestamps\tare\tUT\t\tand\trefer\tto\tthe\tstart\tof\tthe\ttime\tperiod.\n",
    "#\tyear\tday\thr\tmin\tsec:\tyear\t\tday\tof\tyear\t\thour\tof\tday\t\tminutes\t\tseconds.\n",
    "#\tv:\tH+\tvelocity\t(km/s)\n",
    "#\tA\tdata\tvalue\tof\t-9999.9\tindicates\tbad\tor\tmissing\tdata.\n",
    "#\tMore\tDocumentation\tof\tthe\tACE\tSWICS\tSolar\tWind\tProton\tdata\tis\tat\tthis\tweb\tsite:\n",
    "#\thttp://www.srl.caltech.edu/ACE/ASC/level2/ssprotons_l2desc.html\n",
    "#\tBEGIN\tDATA"
   ]
  },
  {
   "cell_type": "code",
   "execution_count": 12,
   "metadata": {},
   "outputs": [
    {
     "name": "stdout",
     "output_type": "stream",
     "text": [
      "      year  day  hr       v\n",
      "0     2021  267   0  425.24\n",
      "1     2021  267   0  413.17\n",
      "2     2021  267   0  395.91\n",
      "3     2021  267   0  411.28\n",
      "4     2021  267   0  414.23\n",
      "...    ...  ...  ..     ...\n",
      "3313  2021  294  23  474.59\n",
      "3314  2021  294  23  477.69\n",
      "3315  2021  294  23  473.94\n",
      "3316  2021  294  23  480.37\n",
      "3317  2021  294  23  475.79\n",
      "\n",
      "[3318 rows x 4 columns]\n"
     ]
    }
   ],
   "source": [
    "import csv\n",
    "import pandas as pd\n",
    "\n",
    "n = 5  # Change this value to choose the interval of rows you want to keep\n",
    "\n",
    "input_file_path = \"/home/dev/Desktop/ACE_SWICS_Proton_Data.txt\"\n",
    "output_file_path = \"/home/dev/Desktop/ACE_SWICS_Proton_Data_Averaged.txt\"\n",
    "\n",
    "data = pd.read_csv(input_file_path,delimiter='\\t')\n",
    "print(data)\n",
    "\n",
    "# Read input file and write every nth row to output file\n",
    "with open(input_file_path, 'r', newline='') as infile, open(output_file_path, 'w', newline='') as outfile:\n",
    "    reader = csv.reader(infile)\n",
    "    writer = csv.writer(outfile)\n",
    "    \n",
    "    # Write the header row to the output file\n",
    "    header = next(reader)\n",
    "    writer.writerow(header)\n",
    "    \n",
    "    # Loop through the remaining rows, writing every nth row to the output file\n",
    "    for index, row in enumerate(reader, start=1):\n",
    "        if index % n == 0:\n",
    "            writer.writerow(row)"
   ]
  }
 ],
 "metadata": {
  "kernelspec": {
   "display_name": "Python 3",
   "language": "python",
   "name": "python3"
  },
  "language_info": {
   "codemirror_mode": {
    "name": "ipython",
    "version": 3
   },
   "file_extension": ".py",
   "mimetype": "text/x-python",
   "name": "python",
   "nbconvert_exporter": "python",
   "pygments_lexer": "ipython3",
   "version": "3.10.6"
  },
  "orig_nbformat": 4
 },
 "nbformat": 4,
 "nbformat_minor": 2
}
