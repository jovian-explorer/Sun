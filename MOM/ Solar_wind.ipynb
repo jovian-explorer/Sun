{
  "nbformat": 4,
  "nbformat_minor": 0,
  "metadata": {
    "colab": {
      "provenance": [],
      "collapsed_sections": [],
      "authorship_tag": "ABX9TyM6xyhvDK8/99dUQHLo3h3Y",
      "include_colab_link": true
    },
    "kernelspec": {
      "name": "python3",
      "display_name": "Python 3"
    },
    "language_info": {
      "name": "python"
    }
  },
  "cells": [
    {
      "cell_type": "markdown",
      "metadata": {
        "id": "view-in-github",
        "colab_type": "text"
      },
      "source": [
        "<a href=\"https://colab.research.google.com/github/jovian-explorer/Sun/blob/main/MOM/%20Solar_wind.ipynb\" target=\"_parent\"><img src=\"https://colab.research.google.com/assets/colab-badge.svg\" alt=\"Open In Colab\"/></a>"
      ]
    },
    {
      "cell_type": "code",
      "execution_count": 1,
      "metadata": {
        "colab": {
          "base_uri": "https://localhost:8080/",
          "height": 70
        },
        "id": "FOCOIxegHkLU",
        "outputId": "7033fb23-5b39-4533-c4bf-3291df1d73b8"
      },
      "outputs": [
        {
          "output_type": "execute_result",
          "data": {
            "text/plain": [
              "\"\\nfile to plot using the 'output_expdopp_4point.csv'\\nexp_dopp =  downconfreq + dopp_firstmoment - tfreq \\nwhere treq = 8410932002.0000 #tfreq = transmitted freq given in .obs file of Akatsuki X Band 8.4 GHz\\n\\n\\nstructure of the csv-  \\ni,timesec,power_total,downconfreq,dopp_firstmoment,exp_dopp, second_moment,RTEC\\n\""
            ],
            "application/vnd.google.colaboratory.intrinsic+json": {
              "type": "string"
            }
          },
          "metadata": {},
          "execution_count": 1
        }
      ],
      "source": [
        "'''\n",
        "file to plot using the 'output_expdopp_4point.csv'\n",
        "exp_dopp =  downconfreq + dopp_firstmoment - tfreq \n",
        "where treq = 8410932002.0000 #tfreq = transmitted freq given in .obs file of Akatsuki X Band 8.4 GHz\n",
        "\n",
        "\n",
        "structure of the csv-  \n",
        "i,timesec,power_total,downconfreq,dopp_firstmoment,exp_dopp, second_moment,RTEC\n",
        "'''"
      ]
    },
    {
      "cell_type": "code",
      "source": [
        "#-----------------------------------------------------------------------------------------------------------------\n",
        "#importing libraries\n",
        "import pandas as pd\n",
        "import numpy as np\n",
        "import plotly.express as px\n",
        "import matplotlib.pyplot as plt\n",
        "#-----------------------------------------------------------------------------------------------------------------"
      ],
      "metadata": {
        "id": "OgSqCf-nHqYl"
      },
      "execution_count": 2,
      "outputs": []
    },
    {
      "cell_type": "code",
      "source": [
        "#importing data from my GitHub\n",
        "url = 'https://raw.githubusercontent.com/jovian-explorer/Sun/main/MOM/output_expdopp_4point.csv'\n",
        "pd.set_option('display.max_columns', None) \n",
        "pd.set_option('display.max_rows', None)  \n",
        "pd.set_option('display.max_colwidth', None)\n",
        "dataset = pd.read_csv(url,delimiter = ',')\n",
        "print(dataset.head(1))\n",
        "#-----------------------------------------------------------------------------------------------------------------"
      ],
      "metadata": {
        "colab": {
          "base_uri": "https://localhost:8080/"
        },
        "id": "dcNAZ0W1H0BF",
        "outputId": "99c6b57f-8043-47ad-b2f2-e4558613a575"
      },
      "execution_count": 3,
      "outputs": [
        {
          "output_type": "stream",
          "name": "stdout",
          "text": [
            "   1   21720.0  43.40549452131652  8410640000.0  -42400.492706323195  \\\n",
            "0  1  21720.25           41.14198  8.410640e+09        -42396.381766   \n",
            "\n",
            "   -334402.4927062988  4.726165950751449  2.751054161769941e+30  \n",
            "0      -334398.381765           5.229972           2.993352e+30  \n"
          ]
        }
      ]
    },
    {
      "cell_type": "code",
      "source": [
        "#-----------------------------------------------------------------------------------------------------------------\n",
        "# accessing the different columns of the csv dataset I made above\n",
        "dataset.columns = [\"i\",\"timesec\",\"power_total\",\"downconfreq\",\"dopp_firstmoment\",\"exp_dopp\",\"second_moment\",\"RTEC\"]\n",
        "#storing values for each column into a separate arrays\n",
        "\n",
        "'''\n",
        "Finding Moments of powSpec (Power spectral density distribution)- by defining \"powSpecmoment\" function - \n",
        "zeroth moment = power, \n",
        "first moment = doppler freq\n",
        "second = width of freq spread \n",
        "downconfreq - RF_TO_IF downconv frequency as read from header file\n",
        "final experimental/Observed doppler shift observed in received signal is (given by heterodyning principle)  \n",
        "exp_dopp = Downconversion frequency + dopp_firstmoment_freq - transmitted freq\n",
        "IV - write output in \"output.txt\" file containing :  time in seconds----power(first moment)-----measured dopp freq\n",
        "'''\n",
        "i = np.array(dataset.i)           \t\t  \t              # Values of iteration\n",
        "timesec= np.array(dataset.timesec)               \t      # Values of time in sec 6300.1, 6300.2\n",
        "power_total= np.array(dataset.power_total)                # Values of zeroth moment \n",
        "downconfreq= np.array(dataset.downconfreq)                # Values of downconfreq\n",
        "dopp_firstmoment= np.array(dataset.dopp_firstmoment)      # Values of first moment \n",
        "exp_dopp= np.array(dataset.exp_dopp)                \t  # Values of exp_dopp\n",
        "second_moment = np.array(dataset.second_moment)\t          # Values of second_moment\n",
        "RTEC = np.array(dataset.RTEC)                             # Values of Radial Total electron content\n",
        "#-----------------------------------------------------------------------------------------------------------------"
      ],
      "metadata": {
        "id": "gzYLUFMNH6AP"
      },
      "execution_count": 4,
      "outputs": []
    },
    {
      "cell_type": "code",
      "source": [
        "#------------------------------------------------\n",
        "m = 9.1*10**(-31)\n",
        "e = 1.6*10**(-19)\n",
        "frec = 8410640000.0\n",
        "k= 5.9\n",
        "l_2= 2.4235* 10**11\n",
        "alpha = 1.14*10**(-24)\n",
        "L = 3.9195*10**11\n",
        "ds=(1.469* 10**11)/len(i)\n",
        "R = 1.252* 10**10\n",
        "#------------------------------------------------"
      ],
      "metadata": {
        "id": "omkVK2e1IEYz"
      },
      "execution_count": 5,
      "outputs": []
    },
    {
      "cell_type": "code",
      "source": [
        "density = RTEC/R\n",
        "plasma_frequency_model_1 = np.sqrt(4*np.pi*density*(e**2)/m)#Yamato et al. 2002\n",
        "plasma_frequency_model_2 = np.sqrt(density*(e**2)/(np.pi*m))#Chen F. F., 1974\n",
        "\n",
        "#refractive index equation taken from Hollweg et al. 1970\n",
        "refractive_index_model_1 = np.sqrt(1 - (plasma_frequency_model_1/frec)**2)\n",
        "refractive_index_model_2 = np.sqrt(1 - (plasma_frequency_model_2/frec)**2)\n",
        "\n",
        "refractive_index_model_1 = np.nan_to_num(refractive_index_model_1)\n",
        "refractive_index_model_2 = np.nan_to_num(refractive_index_model_2)\n",
        "\n",
        "d_refractive_index_model_1 = np.gradient(refractive_index_model_1,1)\n",
        "d_refractive_index_model_2 = np.gradient(refractive_index_model_2,1)\n",
        "dy = np.gradient(second_moment)\n",
        "\n",
        "#angular broadening taken from Hollweg et al. 1970\n",
        "\n",
        "temp_1 = d_refractive_index_model_1/dy\n",
        "temp_2 = d_refractive_index_model_2/dy\n",
        "temp_1 = temp_1*ds\n",
        "temp_2 = temp_2*ds\n",
        "\n",
        "angular_broadening_model_1 = np.sum(temp_1)\n",
        "angular_broadening_model_2 = np.sum(temp_2)\n",
        "\n",
        "#Solar wind velocity taken from Bird et al. 1982\n",
        "solar_wind_velocity_model_1 = (5.77*frec*L)/(angular_broadening_model_1*k*l_2) \n",
        "solar_wind_velocity_model_2 = (5.77*frec*L)/(angular_broadening_model_2*k*l_2)"
      ],
      "metadata": {
        "id": "zh5oNPvlIGy2"
      },
      "execution_count": 17,
      "outputs": []
    },
    {
      "cell_type": "code",
      "source": [
        "# STATUS OF CODE -\n",
        "\n",
        "\n",
        "# RUNS PROPERLY\n",
        "# DEFINING THE VARIABLES PROPERLY PENDING\n",
        "# CHECKING THE UNITS PENDING AS WELL"
      ],
      "metadata": {
        "id": "GqAArXmLJK1A"
      },
      "execution_count": 7,
      "outputs": []
    },
    {
      "cell_type": "code",
      "source": [
        "print(temp_1)\n",
        "print(temp_2)\n",
        "\n",
        "print(angular_broadening_model_1)\n",
        "print(angular_broadening_model_2)\n",
        "\n",
        "print(solar_wind_velocity_model_1)\n",
        "print(solar_wind_velocity_model_2)"
      ],
      "metadata": {
        "colab": {
          "base_uri": "https://localhost:8080/"
        },
        "id": "M3nfu-23IJGs",
        "outputId": "29969f35-8c07-4f3c-de82-d5d48c760c32"
      },
      "execution_count": 18,
      "outputs": [
        {
          "output_type": "stream",
          "name": "stdout",
          "text": [
            "[-1.16121074 -1.14670712 -1.15806389 ... -1.0772098  -1.07726352\n",
            " -1.07441843]\n",
            "[-0.0294138  -0.02904639 -0.02933409 ... -0.02728602 -0.02728738\n",
            " -0.02721528]\n",
            "1582258457.9730306\n",
            "1582274137.1785364\n",
            "8.407426216908599\n",
            "8.407342905325395\n"
          ]
        }
      ]
    }
  ]
}