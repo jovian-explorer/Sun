{
  "nbformat": 4,
  "nbformat_minor": 0,
  "metadata": {
    "colab": {
      "provenance": [],
      "authorship_tag": "ABX9TyMO66ZVmWe6qZIVG+gv7HOt",
      "include_colab_link": true
    },
    "kernelspec": {
      "name": "python3",
      "display_name": "Python 3"
    },
    "language_info": {
      "name": "python"
    }
  },
  "cells": [
    {
      "cell_type": "markdown",
      "metadata": {
        "id": "view-in-github",
        "colab_type": "text"
      },
      "source": [
        "<a href=\"https://colab.research.google.com/github/jovian-explorer/Sun/blob/main/MOM/position-modelling/Transit.ipynb\" target=\"_parent\"><img src=\"https://colab.research.google.com/assets/colab-badge.svg\" alt=\"Open In Colab\"/></a>"
      ]
    },
    {
      "cell_type": "code",
      "source": [
        "#-----------------------------------------------------------------------------------------------------------------\n",
        "#importing libraries\n",
        "import pandas as pd\n",
        "import numpy as np\n",
        "import matplotlib.pyplot as plt\n",
        "#-----------------------------------------------------------------------------------------------------------------"
      ],
      "metadata": {
        "id": "Oom2xH_-2CvR"
      },
      "execution_count": 1,
      "outputs": []
    },
    {
      "cell_type": "code",
      "execution_count": 2,
      "metadata": {
        "colab": {
          "base_uri": "https://localhost:8080/",
          "height": 327
        },
        "id": "ktzuZTSp14D2",
        "outputId": "c4401be2-92a3-4b4a-f3cf-27de732a16d8"
      },
      "outputs": [
        {
          "output_type": "execute_result",
          "data": {
            "text/plain": [
              "[]"
            ]
          },
          "metadata": {},
          "execution_count": 2
        },
        {
          "output_type": "display_data",
          "data": {
            "text/plain": [
              "<Figure size 640x320 with 1 Axes>"
            ],
            "image/png": "[encoded data removed]"
          },
          "metadata": {
            "needs_background": "light"
          }
        }
      ],
      "source": [
        "rad_rs = (-8.1,-6.92,-5.77,5.24,6.33,7.49)\n",
        "y=(0,0,0,0,0,0)\n",
        "\n",
        "fig = plt.figure(figsize = (8,4) , dpi= 80) \n",
        "\n",
        "plt.scatter(-8.1,0,color = 'b', marker = 'x')\n",
        "plt.scatter(-6.92,0,color = 'b', marker = 'x')\n",
        "plt.scatter(-5.77,0,color = 'b', marker = 'x')\n",
        "plt.scatter(5.24,0,color = 'b', marker = 'x')\n",
        "plt.scatter(6.33,0,color = 'b', marker = 'x')\n",
        "plt.scatter(7.49,0,color = 'b', marker = 'x')\n",
        "\n",
        "plt.text(-8.5,-0.75,\"2/10\")\n",
        "plt.text(-7.4,-0.75,\"3/10\")\n",
        "plt.text(-6,-0.75,\"4/10\")\n",
        "plt.text(4.6,-0.75,\"12/10\")\n",
        "plt.text(5.85,-0.75,\"13/10\")\n",
        "plt.text(7,-0.75,\"14/10\")\n",
        "\n",
        "plt.scatter(0,0,color = 'yellow', s = 7500)\n",
        "plt.ylim(-5,5)\n",
        "plt.yticks(y)\n",
        "plt.xlabel(\"$X[R_{\\odot}]$\")\n",
        "plt.ylabel(\"$Z[R_{\\odot}]$\")\n",
        "plt.plot()"
      ]
    }
  ]
}