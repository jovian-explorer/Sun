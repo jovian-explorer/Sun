{
 "cells": [
  {
   "cell_type": "markdown",
   "metadata": {},
   "source": [
    "### Import Library"
   ]
  },
  {
   "cell_type": "code",
   "execution_count": 1,
   "metadata": {},
   "outputs": [
    {
     "data": {
      "text/plain": [
       "<astropy.visualization.units.quantity_support.<locals>.MplQuantityConverter at 0x7fb79df62650>"
      ]
     },
     "execution_count": 1,
     "metadata": {},
     "output_type": "execute_result"
    }
   ],
   "source": [
    "import pandas as pd\n",
    "import numpy as np\n",
    "import matplotlib.pylab as plt\n",
    "import heliopy.data.spice as spicedata\n",
    "import heliopy.spice as spice\n",
    "from datetime import datetime, timedelta\n",
    "import astropy.units as u\n",
    "from astropy.time import Time\n",
    "import sunpy\n",
    "import astropy\n",
    "import matplotlib.dates as mdates\n",
    "from sunpy.coordinates import get_body_heliographic_stonyhurst\n",
    "from datetime import datetime\n",
    "import os\n",
    "from ai import cdas, cs\n",
    "from mpl_toolkits.mplot3d import Axes3D\n",
    "from astropy.visualization import quantity_support\n",
    "quantity_support()"
   ]
  },
  {
   "cell_type": "code",
   "execution_count": 2,
   "metadata": {},
   "outputs": [],
   "source": [
    "kernels = spicedata.get_kernel('psp')\n",
    "kernels += spicedata.get_kernel('psp_pred')\n",
    "spice.furnish(kernels)\n",
    "psp = spice.Trajectory('SPP')"
   ]
  },
  {
   "cell_type": "code",
   "execution_count": 6,
   "metadata": {},
   "outputs": [],
   "source": [
    "frame = 'HCI'\n",
    "starttime =datetime(2021, 10,2)\n",
    "endtime = datetime(2021,10,14)\n",
    "times = []\n",
    "while starttime < endtime:\n",
    "    times.append(starttime)\n",
    "    starttime += timedelta(days=1)\n",
    "psp_time_num=mdates.date2num(times)     \n",
    "\n",
    "spice.furnish(spicedata.get_kernel('psp_pred'))\n",
    "psp.generate_positions(times,'Sun',frame)\n",
    "psp.change_units(astropy.units.AU) \n",
    "[psp_r, psp_lat, psp_lon]=cs.cart2sp(psp.x,psp.y,psp.z)  "
   ]
  },
  {
   "cell_type": "code",
   "execution_count": 8,
   "metadata": {},
   "outputs": [],
   "source": [
    "obstime = Time('2017-07-31T07:54:00.005')    ### planet position\n",
    "planet_list = ['sun','venus','earth','mars']\n",
    "planet_coord =[get_body_heliographic_stonyhurst(this_planet, time=obstime) for this_planet in planet_list]"
   ]
  },
  {
   "cell_type": "code",
   "execution_count": 26,
   "metadata": {},
   "outputs": [],
   "source": [
    "%matplotlib qt\n",
    "fig = plt.figure(figsize = (20,10) , dpi= 80) ### planet ploting\n",
    "ax = fig.add_subplot(projection='polar')\n",
    "\n",
    "for this_planet, this_coord in zip(planet_list, planet_coord):\n",
    "    plt.plot(this_coord.lon.to('rad'), this_coord.radius, 'o', label=this_planet)\n",
    "ax.plot(psp_lon,psp_r)\n",
    "ax.scatter(psp_lon[1],psp_r[1],color='red',label='psp')\n",
    "ax.set_ylim([0,1.7])\n",
    "plt.legend()\n",
    "plt.show()\n"
   ]
  },
  {
   "cell_type": "code",
   "execution_count": 25,
   "metadata": {},
   "outputs": [
    {
     "name": "stdout",
     "output_type": "stream",
     "text": [
      "[1.13832016] AU\n"
     ]
    }
   ],
   "source": [
    "############# Earth\n",
    "starttime =datetime(2017, 7, 31)\n",
    "endtime = datetime(2017, 8, 1)\n",
    "earth_time = []\n",
    "while starttime < endtime:\n",
    "    earth_time.append(starttime)\n",
    "    starttime += timedelta(days=1)\n",
    "earth_time_num=mdates.date2num(earth_time)     \n",
    "\n",
    "earth=spice.Trajectory('Earth') \n",
    "earth.generate_positions(earth_time,'Sun',frame)\n",
    "earth.change_units(astropy.units.AU)  \n",
    "[earth_r, earth_lat, earth_lon]=cs.cart2sp(earth.x,earth.y,earth.z)\n",
    "\n",
    "\n",
    "################# venus\n",
    "venus_time_num=earth_time_num\n",
    "venus=spice.Trajectory('Venus')  \n",
    "venus.generate_positions(earth_time,'Sun',frame)  \n",
    "venus.change_units(astropy.units.AU)  \n",
    "[venus_r, venus_lat, venus_lon]=cs.cart2sp(venus.x,venus.y,venus.z)\n",
    "\n",
    "\n",
    "############### Mars\n",
    "\n",
    "# mars_time_num=earth_time_num\n",
    "# mars=spice.Trajectory('MARS')  \n",
    "# mars.generate_positions(earth_time,'Sun',frame)  \n",
    "# mars.change_units(astropy.units.AU)  \n",
    "# # print(earth_time)\n",
    "# [mars_r, mars_lat, mars_lon]=cs.cart2sp(mars.x,mars.y,mars.z)\n",
    "\n",
    "plt.scatter(venus.x,venus.y)\n",
    "plt.scatter(earth.x,earth.y)\n",
    "plt.show()\n",
    "\n",
    "distance = np.sqrt( (earth.x-venus.x)**2 + (earth.y-venus.y)**2)\n",
    "print(distance)"
   ]
  }
 ],
 "metadata": {
  "kernelspec": {
   "display_name": "Python 3.10.4 64-bit",
   "language": "python",
   "name": "python3"
  },
  "language_info": {
   "codemirror_mode": {
    "name": "ipython",
    "version": 3
   },
   "file_extension": ".py",
   "mimetype": "text/x-python",
   "name": "python",
   "nbconvert_exporter": "python",
   "pygments_lexer": "ipython3",
   "version": "3.10.4"
  },
  "orig_nbformat": 4,
  "vscode": {
   "interpreter": {
    "hash": "916dbcbb3f70747c44a77c7bcd40155683ae19c65e1c03b4aa3499c5328201f1"
   }
  }
 },
 "nbformat": 4,
 "nbformat_minor": 2
}
