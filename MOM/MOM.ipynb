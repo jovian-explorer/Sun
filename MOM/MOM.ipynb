{
 "cells": [
  {
   "cell_type": "code",
   "execution_count": 1,
   "metadata": {},
   "outputs": [],
   "source": [
    "#-----------------------------------------------------------------------------------------------------------------\n",
    "#importing libraries\n",
    "from __future__ import print_function, division\n",
    "import pandas as pd\n",
    "import numpy as np\n",
    "import plotly.express as px\n",
    "import matplotlib.pyplot as plt\n",
    "import scipy.interpolate as interp\n",
    "import argparse\n",
    "import copy\n",
    "import datetime\n",
    "import math\n",
    "from matplotlib.gridspec import GridSpec\n",
    "global low, up\n",
    "from astropy.io import fits as f\n",
    "from astropy.table import Table as t\n",
    "from astropy.utils.data import download_file\n",
    "import matplotlib.pyplot as plt\n",
    "from astropy.visualization import astropy_mpl_style\n",
    "from mpl_toolkits import mplot3d\n",
    "from scipy.optimize import curve_fit\n",
    "import scipy.optimize as so\n",
    "import warnings\n",
    "warnings.filterwarnings(\"ignore\")\n",
    "#-----------------------------------------------------------------------------------------------------------------"
   ]
  },
  {
   "cell_type": "code",
   "execution_count": 5,
   "metadata": {},
   "outputs": [
    {
     "name": "stdout",
     "output_type": "stream",
     "text": [
      "   ET_time_sec    time_sec_of_day    freq_residual    exp_dopp    theo_dopp \n",
      "0  6.865017e+08            10405.0     -2905.642025   8403.3824  11309.02442\n"
     ]
    }
   ],
   "source": [
    "#importing data from my GitHub\n",
    "# url = 'https://raw.githubusercontent.com/jovian-explorer/Sun/main/MOM/output_expdopp_4point.csv'\n",
    "url = '/home/dev/Sun/test.txt'\n",
    "pd.set_option('display.max_columns', None) \n",
    "pd.set_option('display.max_rows', None)  \n",
    "pd.set_option('display.max_colwidth', None)\n",
    "dataset = pd.read_csv(url,delimiter = '\\t')\n",
    "print(dataset.head(1))\n",
    "#-----------------------------------------------------------------------------------------------------------------"
   ]
  },
  {
   "cell_type": "code",
   "execution_count": 7,
   "metadata": {},
   "outputs": [],
   "source": [
    "#-----------------------------------------------------------------------------------------------------------------\n",
    "# accessing the different columns of the csv dataset I made above\n",
    "dataset.columns = [   'ET_time_sec',  'time_sec_of_day',    'freq_residual',    'exp_dopp',    'theo_dopp' ]\n",
    "#storing values for each column into a separate arrays\n",
    "\n",
    "'''\n",
    "Finding Moments of powSpec (Power spectral density distribution)- by defining \"powSpecmoment\" function - \n",
    "zeroth moment = power, \n",
    "first moment = doppler freq\n",
    "second = width of freq spread \n",
    "downconfreq - RF_TO_IF downconv frequency as read from header file\n",
    "final experimental/Observed doppler shift observed in received signal is (given by heterodyning principle)  \n",
    "exp_dopp = Downconversion frequency + dopp_firstmoment_freq - transmitted freq\n",
    "IV - write output in \"output.txt\" file containing :  time in seconds----power(first moment)-----measured dopp freq\n",
    "'''\n",
    "ET_time_sec= np.array(dataset.ET_time_sec)              \n",
    "time_sec_of_day= np.array(dataset.time_sec_of_day)                \n",
    "freq_residual= np.array(dataset.freq_residual)                  # Values of freq_residual\n",
    "exp_dopp= np.array(dataset.exp_dopp)                \t        # Values of exp_dopp\n",
    "theo_dopp = np.array(dataset.theo_dopp)\t                        # Values of theo_dopp\n",
    "#-----------------------------------------------------------------------------------------------------------------"
   ]
  },
  {
   "cell_type": "code",
   "execution_count": 10,
   "metadata": {},
   "outputs": [],
   "source": [
    "#------------------------------------------------\n",
    "m = 9.1*10**(-31)\n",
    "e = 1.6*10**(-19)\n",
    "frec = 8410640000.0\n",
    "k= 5.9\n",
    "l_2= 2.4235* 10**11\n",
    "alpha = 1.14*10**(-24)\n",
    "L = 3.9195*10**11\n",
    "ds=(1.469* 10**11)/len(ET_time_sec)\n",
    "R = 1.252* 10**10\n",
    "downconfreq = 8410640000.0\n",
    "#------------------------------------------------"
   ]
  },
  {
   "cell_type": "code",
   "execution_count": 13,
   "metadata": {},
   "outputs": [],
   "source": [
    "RTEC = (freq_residual/(alpha*(downconfreq)**(-1.2)))**(1/1.2)\n",
    "\n",
    "density = RTEC/R\n",
    "plasma_frequency_model_1 = np.sqrt(4*np.pi*density*(e**2)/m)#Yamato et al. 2002\n",
    "plasma_frequency_model_2 = np.sqrt(density*(e**2)/(np.pi*m))#Chen F. F., 1974\n",
    "\n",
    "#refractive index equation taken from Hollweg et al. 1970\n",
    "refractive_index_model_1 = np.sqrt(1 - (plasma_frequency_model_1/frec)**2)\n",
    "refractive_index_model_2 = np.sqrt(1 - (plasma_frequency_model_2/frec)**2)\n",
    "\n",
    "refractive_index_model_1 = np.nan_to_num(refractive_index_model_1)\n",
    "refractive_index_model_2 = np.nan_to_num(refractive_index_model_2)\n",
    "\n",
    "d_refractive_index_model_1 = np.gradient(refractive_index_model_1,1)\n",
    "d_refractive_index_model_2 = np.gradient(refractive_index_model_2,1)\n",
    "dy = np.gradient(freq_residual)\n",
    "\n",
    "#angular broadening taken from Hollweg et al. 1970\n",
    "\n",
    "temp_1 = d_refractive_index_model_1/dy\n",
    "temp_2 = d_refractive_index_model_2/dy\n",
    "temp_1 = temp_1*ds\n",
    "temp_2 = temp_2*ds\n",
    "\n",
    "angular_broadening_model_1 = np.sum(temp_1)\n",
    "angular_broadening_model_2 = np.sum(temp_2)\n",
    "\n",
    "#Solar wind velocity taken from Bird et al. 1982\n",
    "solar_wind_velocity_model_1 = (5.77*frec*L)/(angular_broadening_model_1*k*l_2) \n",
    "solar_wind_velocity_model_2 = (5.77*frec*L)/(angular_broadening_model_2*k*l_2)"
   ]
  },
  {
   "cell_type": "code",
   "execution_count": 14,
   "metadata": {},
   "outputs": [
    {
     "name": "stdout",
     "output_type": "stream",
     "text": [
      "[-0.  0.  0. ...  0. -0. -0.]\n",
      "[-0.  0.  0. ...  0. -0. -0.]\n",
      "619049.4748806442\n",
      "619080.6888744546\n",
      "21488.94681487721\n",
      "21487.863344071346\n"
     ]
    }
   ],
   "source": [
    "print(temp_1)\n",
    "print(temp_2)\n",
    "\n",
    "print(angular_broadening_model_1)\n",
    "print(angular_broadening_model_2)\n",
    "\n",
    "print(solar_wind_velocity_model_1)\n",
    "print(solar_wind_velocity_model_2)"
   ]
  }
 ],
 "metadata": {
  "kernelspec": {
   "display_name": "Python 3.10.6 64-bit",
   "language": "python",
   "name": "python3"
  },
  "language_info": {
   "codemirror_mode": {
    "name": "ipython",
    "version": 3
   },
   "file_extension": ".py",
   "mimetype": "text/x-python",
   "name": "python",
   "nbconvert_exporter": "python",
   "pygments_lexer": "ipython3",
   "version": "3.10.6"
  },
  "orig_nbformat": 4,
  "vscode": {
   "interpreter": {
    "hash": "916dbcbb3f70747c44a77c7bcd40155683ae19c65e1c03b4aa3499c5328201f1"
   }
  }
 },
 "nbformat": 4,
 "nbformat_minor": 2
}
